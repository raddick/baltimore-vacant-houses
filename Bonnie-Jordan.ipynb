{
 "cells": [
  {
   "cell_type": "markdown",
   "metadata": {},
   "source": [
    "# Plot entire city neighborhood by neighborhood\n",
    "\n",
    "_Tamas Budavari_ <br>\n",
    "<budavari@jhu.edu> <br>\n",
    "2018-08-30\n"
   ]
  },
  {
   "cell_type": "code",
   "execution_count": null,
   "metadata": {},
   "outputs": [],
   "source": [
    "import warnings\n",
    "warnings.filterwarnings('ignore')\n",
    "\n",
    "%pylab inline\n",
    "from SciServer import CasJobs\n",
    "import pandas as pd\n",
    "from shapely import wkt\n",
    "\n",
    "import geopandas as gpd"
   ]
  },
  {
   "cell_type": "code",
   "execution_count": null,
   "metadata": {},
   "outputs": [],
   "source": [
    "# neighborhoods\n",
    "df = CasJobs.executeQuery(\"select distinct Neighborhood from RealPropertiesAll\", 'City')"
   ]
  },
  {
   "cell_type": "code",
   "execution_count": null,
   "metadata": {},
   "outputs": [],
   "source": [
    "# helper function to get geo data\n",
    "def GeoQuery(qry, geocolumn='geometry', ctxt='City', crs=2248):\n",
    "    df = CasJobs.executeQuery(qry, ctxt)\n",
    "    crsinit = {'init': 'epsg:4326'}\n",
    "    gdf = gpd.GeoDataFrame(df, crs=crsinit, geometry=df[geocolumn].apply(wkt.loads))\n",
    "    return gdf.to_crs(epsg=crs)"
   ]
  },
  {
   "cell_type": "code",
   "execution_count": null,
   "metadata": {},
   "outputs": [],
   "source": [
    "#  query template for neighborhood shape\n",
    "qnb = \"\"\"\n",
    "    select geometry=Geog.ToString()\n",
    "    from Neighborhoods \n",
    "\"\"\"\n",
    "\n",
    "# query template for number of vacants, etc., in subblockfaces\n",
    "qry = \"\"\"\n",
    "    select s.MinID, N, Nvac, Nmcc, Nvmc, Nown, Fvmc=convert(float,Nvmc)/N\n",
    "    , MinBlockLot, MaxBlockLot\n",
    "    , IsSameStreet=coalesce(IsSameStreet,1)\n",
    "    , geometry=BldgGeog.ToString()\n",
    "    from SubBlockFaces s\n",
    "        cross apply (\n",
    "            select MinID, MinBlockLot=MIN(BlockLot), MaxBlockLot=MAX(BlockLot)\n",
    "            from RealGroups g\n",
    "                join RealPropertiesAll r on r.ID=g.ID\n",
    "            where s.MinID=g.MinID and Neighborhood like '%s'\n",
    "            group by g.MinID\n",
    "        ) x\n",
    "    where Nvac > 0\n",
    "\"\"\""
   ]
  },
  {
   "cell_type": "code",
   "execution_count": null,
   "metadata": {},
   "outputs": [],
   "source": [
    "cmap = 'cubehelix_r' # color map\n",
    "vmin, vmax = 0, 1  # color limits\n",
    "\n",
    "fig, ax = plt.subplots(1, figsize=(16,12))\n",
    "ax.set_aspect('equal')\n",
    "\n",
    "# plot neighborhood outlines (union of parcels)\n",
    "nbr = GeoQuery(qnb)\n",
    "nbr.plot(ax=ax, linewidth=0.05, edgecolor='none', color='seashell')\n",
    "\n",
    "# plot contiguous houses with vacancy\n",
    "for i,n in enumerate(df.Neighborhood[:]):\n",
    "    print ('Loading ' , i , '/', df.Neighborhood.size, ' : ', n)\n",
    "    sbf = GeoQuery(qry % n.replace(\"'\", \"''\"))\n",
    "    print ('>>>', sbf.shape[0])\n",
    "    sbf.plot(ax=ax, linewidth=0.05, edgecolor='black', column='Fvmc', cmap=cmap, vmin=vmin, vmax=vmax)\n",
    "    \n",
    "#ax.axis('off')\n",
    "sm = plt.cm.ScalarMappable(cmap=cmap, norm=plt.Normalize(vmin=vmin, vmax=vmax))\n",
    "sm._A = []\n",
    "cbar = fig.colorbar(sm)  \n",
    "plt.tight_layout()\n",
    "#plt.savefig('_city.pdf')\n",
    "plt.savefig('city.svg', format='svg')\n",
    "print('Done')"
   ]
  },
  {
   "cell_type": "code",
   "execution_count": null,
   "metadata": {},
   "outputs": [],
   "source": []
  },
  {
   "cell_type": "code",
   "execution_count": null,
   "metadata": {},
   "outputs": [],
   "source": []
  }
 ],
 "metadata": {
  "kernelspec": {
   "display_name": "Python 3",
   "language": "python",
   "name": "python3"
  },
  "language_info": {
   "codemirror_mode": {
    "name": "ipython",
    "version": 3
   },
   "file_extension": ".py",
   "mimetype": "text/x-python",
   "name": "python",
   "nbconvert_exporter": "python",
   "pygments_lexer": "ipython3",
   "version": "3.6.6"
  }
 },
 "nbformat": 4,
 "nbformat_minor": 2
}
